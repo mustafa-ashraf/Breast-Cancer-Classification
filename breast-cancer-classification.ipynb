{
 "cells": [
  {
   "cell_type": "markdown",
   "id": "834c1a2f",
   "metadata": {
    "papermill": {
     "duration": 0.013797,
     "end_time": "2022-10-15T10:31:30.195620",
     "exception": false,
     "start_time": "2022-10-15T10:31:30.181823",
     "status": "completed"
    },
    "tags": []
   },
   "source": [
    "<div style=\"color:white;font-size:50px;font-weight:bolder;background-color:black;text-align:center;padding:15px 0px;border-radius:20px\">Breast Cancer Classification</div> "
   ]
  },
  {
   "cell_type": "markdown",
   "id": "5b6578ed",
   "metadata": {
    "papermill": {
     "duration": 0.011622,
     "end_time": "2022-10-15T10:31:30.219491",
     "exception": false,
     "start_time": "2022-10-15T10:31:30.207869",
     "status": "completed"
    },
    "tags": []
   },
   "source": [
    "![](https://rockethealth.africa/wp-content/uploads/2021/10/wHAT-YOU-NEED-TO-KNOW-ABOUT-BREAST-CANCER.jpg)"
   ]
  },
  {
   "cell_type": "markdown",
   "id": "b7ef7bcb",
   "metadata": {
    "papermill": {
     "duration": 0.011315,
     "end_time": "2022-10-15T10:31:30.242630",
     "exception": false,
     "start_time": "2022-10-15T10:31:30.231315",
     "status": "completed"
    },
    "tags": []
   },
   "source": [
    "<div style=\"color:white;font-size:25px;font-weight:bolder;background-color:black;text-align:center;padding:15px 0px;border-radius:20px\">Reading data</div> "
   ]
  },
  {
   "cell_type": "markdown",
   "id": "14525623",
   "metadata": {
    "papermill": {
     "duration": 0.011233,
     "end_time": "2022-10-15T10:31:30.267351",
     "exception": false,
     "start_time": "2022-10-15T10:31:30.256118",
     "status": "completed"
    },
    "tags": []
   },
   "source": [
    "<div style=\"color:blue;font-size:20px;font-weight:bolder\">Import The Main Libiraries</div> "
   ]
  },
  {
   "cell_type": "code",
   "execution_count": 1,
   "id": "b6849665",
   "metadata": {
    "execution": {
     "iopub.execute_input": "2022-10-15T10:31:30.292736Z",
     "iopub.status.busy": "2022-10-15T10:31:30.292296Z",
     "iopub.status.idle": "2022-10-15T10:31:32.730308Z",
     "shell.execute_reply": "2022-10-15T10:31:32.729001Z"
    },
    "papermill": {
     "duration": 2.454899,
     "end_time": "2022-10-15T10:31:32.733816",
     "exception": false,
     "start_time": "2022-10-15T10:31:30.278917",
     "status": "completed"
    },
    "tags": []
   },
   "outputs": [],
   "source": [
    "# Most important libiraries\n",
    "import numpy as np\n",
    "import pandas as pd \n",
    "import matplotlib.pyplot as plt\n",
    "import seaborn as sns\n",
    "from sklearn.preprocessing import LabelEncoder\n",
    "import missingno as msno\n",
    "import warnings\n",
    "warnings.filterwarnings(\"ignore\")\n",
    "import os\n",
    "import plotly.express as px"
   ]
  },
  {
   "cell_type": "markdown",
   "id": "ff4113b2",
   "metadata": {
    "papermill": {
     "duration": 0.011662,
     "end_time": "2022-10-15T10:31:32.757469",
     "exception": false,
     "start_time": "2022-10-15T10:31:32.745807",
     "status": "completed"
    },
    "tags": []
   },
   "source": [
    "<div style=\"color:blue;font-size:20px;font-weight:bolder\">Load The DataSet</div> "
   ]
  },
  {
   "cell_type": "code",
   "execution_count": 2,
   "id": "0fcf5f58",
   "metadata": {
    "_cell_guid": "b1076dfc-b9ad-4769-8c92-a6c4dae69d19",
    "_uuid": "8f2839f25d086af736a60e9eeb907d3b93b6e0e5",
    "execution": {
     "iopub.execute_input": "2022-10-15T10:31:32.783059Z",
     "iopub.status.busy": "2022-10-15T10:31:32.782632Z",
     "iopub.status.idle": "2022-10-15T10:31:32.810938Z",
     "shell.execute_reply": "2022-10-15T10:31:32.809803Z"
    },
    "papermill": {
     "duration": 0.04463,
     "end_time": "2022-10-15T10:31:32.813961",
     "exception": false,
     "start_time": "2022-10-15T10:31:32.769331",
     "status": "completed"
    },
    "tags": []
   },
   "outputs": [],
   "source": [
    "## Read the Csv file\n",
    "data = pd.read_csv(\"../input/breast-cancer-dataset/breast-cancer.csv\")"
   ]
  },
  {
   "cell_type": "code",
   "execution_count": 3,
   "id": "f05d12ab",
   "metadata": {
    "execution": {
     "iopub.execute_input": "2022-10-15T10:31:32.839620Z",
     "iopub.status.busy": "2022-10-15T10:31:32.839182Z",
     "iopub.status.idle": "2022-10-15T10:31:32.844756Z",
     "shell.execute_reply": "2022-10-15T10:31:32.843816Z"
    },
    "papermill": {
     "duration": 0.021065,
     "end_time": "2022-10-15T10:31:32.846950",
     "exception": false,
     "start_time": "2022-10-15T10:31:32.825885",
     "status": "completed"
    },
    "tags": []
   },
   "outputs": [],
   "source": [
    "# Take a copy from dataframe to \"df_air\"\n",
    "df=data.copy()"
   ]
  },
  {
   "cell_type": "markdown",
   "id": "1b432b88",
   "metadata": {
    "papermill": {
     "duration": 0.010893,
     "end_time": "2022-10-15T10:31:32.869072",
     "exception": false,
     "start_time": "2022-10-15T10:31:32.858179",
     "status": "completed"
    },
    "tags": []
   },
   "source": [
    "<div style=\"color:blue;font-size:20px;font-weight:bolder\">Inspect The Data</div> "
   ]
  },
  {
   "cell_type": "code",
   "execution_count": 4,
   "id": "d73d661e",
   "metadata": {
    "execution": {
     "iopub.execute_input": "2022-10-15T10:31:32.895207Z",
     "iopub.status.busy": "2022-10-15T10:31:32.893623Z",
     "iopub.status.idle": "2022-10-15T10:31:32.938134Z",
     "shell.execute_reply": "2022-10-15T10:31:32.936609Z"
    },
    "papermill": {
     "duration": 0.06092,
     "end_time": "2022-10-15T10:31:32.941284",
     "exception": false,
     "start_time": "2022-10-15T10:31:32.880364",
     "status": "completed"
    },
    "tags": []
   },
   "outputs": [
    {
     "data": {
      "text/html": [
       "<div>\n",
       "<style scoped>\n",
       "    .dataframe tbody tr th:only-of-type {\n",
       "        vertical-align: middle;\n",
       "    }\n",
       "\n",
       "    .dataframe tbody tr th {\n",
       "        vertical-align: top;\n",
       "    }\n",
       "\n",
       "    .dataframe thead th {\n",
       "        text-align: right;\n",
       "    }\n",
       "</style>\n",
       "<table border=\"1\" class=\"dataframe\">\n",
       "  <thead>\n",
       "    <tr style=\"text-align: right;\">\n",
       "      <th></th>\n",
       "      <th>id</th>\n",
       "      <th>diagnosis</th>\n",
       "      <th>radius_mean</th>\n",
       "      <th>texture_mean</th>\n",
       "      <th>perimeter_mean</th>\n",
       "      <th>area_mean</th>\n",
       "      <th>smoothness_mean</th>\n",
       "      <th>compactness_mean</th>\n",
       "      <th>concavity_mean</th>\n",
       "      <th>concave points_mean</th>\n",
       "      <th>...</th>\n",
       "      <th>radius_worst</th>\n",
       "      <th>texture_worst</th>\n",
       "      <th>perimeter_worst</th>\n",
       "      <th>area_worst</th>\n",
       "      <th>smoothness_worst</th>\n",
       "      <th>compactness_worst</th>\n",
       "      <th>concavity_worst</th>\n",
       "      <th>concave points_worst</th>\n",
       "      <th>symmetry_worst</th>\n",
       "      <th>fractal_dimension_worst</th>\n",
       "    </tr>\n",
       "  </thead>\n",
       "  <tbody>\n",
       "    <tr>\n",
       "      <th>0</th>\n",
       "      <td>842302</td>\n",
       "      <td>M</td>\n",
       "      <td>17.99</td>\n",
       "      <td>10.38</td>\n",
       "      <td>122.80</td>\n",
       "      <td>1001.0</td>\n",
       "      <td>0.11840</td>\n",
       "      <td>0.27760</td>\n",
       "      <td>0.3001</td>\n",
       "      <td>0.14710</td>\n",
       "      <td>...</td>\n",
       "      <td>25.38</td>\n",
       "      <td>17.33</td>\n",
       "      <td>184.60</td>\n",
       "      <td>2019.0</td>\n",
       "      <td>0.1622</td>\n",
       "      <td>0.6656</td>\n",
       "      <td>0.7119</td>\n",
       "      <td>0.2654</td>\n",
       "      <td>0.4601</td>\n",
       "      <td>0.11890</td>\n",
       "    </tr>\n",
       "    <tr>\n",
       "      <th>1</th>\n",
       "      <td>842517</td>\n",
       "      <td>M</td>\n",
       "      <td>20.57</td>\n",
       "      <td>17.77</td>\n",
       "      <td>132.90</td>\n",
       "      <td>1326.0</td>\n",
       "      <td>0.08474</td>\n",
       "      <td>0.07864</td>\n",
       "      <td>0.0869</td>\n",
       "      <td>0.07017</td>\n",
       "      <td>...</td>\n",
       "      <td>24.99</td>\n",
       "      <td>23.41</td>\n",
       "      <td>158.80</td>\n",
       "      <td>1956.0</td>\n",
       "      <td>0.1238</td>\n",
       "      <td>0.1866</td>\n",
       "      <td>0.2416</td>\n",
       "      <td>0.1860</td>\n",
       "      <td>0.2750</td>\n",
       "      <td>0.08902</td>\n",
       "    </tr>\n",
       "    <tr>\n",
       "      <th>2</th>\n",
       "      <td>84300903</td>\n",
       "      <td>M</td>\n",
       "      <td>19.69</td>\n",
       "      <td>21.25</td>\n",
       "      <td>130.00</td>\n",
       "      <td>1203.0</td>\n",
       "      <td>0.10960</td>\n",
       "      <td>0.15990</td>\n",
       "      <td>0.1974</td>\n",
       "      <td>0.12790</td>\n",
       "      <td>...</td>\n",
       "      <td>23.57</td>\n",
       "      <td>25.53</td>\n",
       "      <td>152.50</td>\n",
       "      <td>1709.0</td>\n",
       "      <td>0.1444</td>\n",
       "      <td>0.4245</td>\n",
       "      <td>0.4504</td>\n",
       "      <td>0.2430</td>\n",
       "      <td>0.3613</td>\n",
       "      <td>0.08758</td>\n",
       "    </tr>\n",
       "    <tr>\n",
       "      <th>3</th>\n",
       "      <td>84348301</td>\n",
       "      <td>M</td>\n",
       "      <td>11.42</td>\n",
       "      <td>20.38</td>\n",
       "      <td>77.58</td>\n",
       "      <td>386.1</td>\n",
       "      <td>0.14250</td>\n",
       "      <td>0.28390</td>\n",
       "      <td>0.2414</td>\n",
       "      <td>0.10520</td>\n",
       "      <td>...</td>\n",
       "      <td>14.91</td>\n",
       "      <td>26.50</td>\n",
       "      <td>98.87</td>\n",
       "      <td>567.7</td>\n",
       "      <td>0.2098</td>\n",
       "      <td>0.8663</td>\n",
       "      <td>0.6869</td>\n",
       "      <td>0.2575</td>\n",
       "      <td>0.6638</td>\n",
       "      <td>0.17300</td>\n",
       "    </tr>\n",
       "    <tr>\n",
       "      <th>4</th>\n",
       "      <td>84358402</td>\n",
       "      <td>M</td>\n",
       "      <td>20.29</td>\n",
       "      <td>14.34</td>\n",
       "      <td>135.10</td>\n",
       "      <td>1297.0</td>\n",
       "      <td>0.10030</td>\n",
       "      <td>0.13280</td>\n",
       "      <td>0.1980</td>\n",
       "      <td>0.10430</td>\n",
       "      <td>...</td>\n",
       "      <td>22.54</td>\n",
       "      <td>16.67</td>\n",
       "      <td>152.20</td>\n",
       "      <td>1575.0</td>\n",
       "      <td>0.1374</td>\n",
       "      <td>0.2050</td>\n",
       "      <td>0.4000</td>\n",
       "      <td>0.1625</td>\n",
       "      <td>0.2364</td>\n",
       "      <td>0.07678</td>\n",
       "    </tr>\n",
       "  </tbody>\n",
       "</table>\n",
       "<p>5 rows × 32 columns</p>\n",
       "</div>"
      ],
      "text/plain": [
       "         id diagnosis  radius_mean  texture_mean  perimeter_mean  area_mean  \\\n",
       "0    842302         M        17.99         10.38          122.80     1001.0   \n",
       "1    842517         M        20.57         17.77          132.90     1326.0   \n",
       "2  84300903         M        19.69         21.25          130.00     1203.0   \n",
       "3  84348301         M        11.42         20.38           77.58      386.1   \n",
       "4  84358402         M        20.29         14.34          135.10     1297.0   \n",
       "\n",
       "   smoothness_mean  compactness_mean  concavity_mean  concave points_mean  \\\n",
       "0          0.11840           0.27760          0.3001              0.14710   \n",
       "1          0.08474           0.07864          0.0869              0.07017   \n",
       "2          0.10960           0.15990          0.1974              0.12790   \n",
       "3          0.14250           0.28390          0.2414              0.10520   \n",
       "4          0.10030           0.13280          0.1980              0.10430   \n",
       "\n",
       "   ...  radius_worst  texture_worst  perimeter_worst  area_worst  \\\n",
       "0  ...         25.38          17.33           184.60      2019.0   \n",
       "1  ...         24.99          23.41           158.80      1956.0   \n",
       "2  ...         23.57          25.53           152.50      1709.0   \n",
       "3  ...         14.91          26.50            98.87       567.7   \n",
       "4  ...         22.54          16.67           152.20      1575.0   \n",
       "\n",
       "   smoothness_worst  compactness_worst  concavity_worst  concave points_worst  \\\n",
       "0            0.1622             0.6656           0.7119                0.2654   \n",
       "1            0.1238             0.1866           0.2416                0.1860   \n",
       "2            0.1444             0.4245           0.4504                0.2430   \n",
       "3            0.2098             0.8663           0.6869                0.2575   \n",
       "4            0.1374             0.2050           0.4000                0.1625   \n",
       "\n",
       "   symmetry_worst  fractal_dimension_worst  \n",
       "0          0.4601                  0.11890  \n",
       "1          0.2750                  0.08902  \n",
       "2          0.3613                  0.08758  \n",
       "3          0.6638                  0.17300  \n",
       "4          0.2364                  0.07678  \n",
       "\n",
       "[5 rows x 32 columns]"
      ]
     },
     "execution_count": 4,
     "metadata": {},
     "output_type": "execute_result"
    }
   ],
   "source": [
    "# Show the head of the dataFrame \n",
    "df.head()"
   ]
  },
  {
   "cell_type": "code",
   "execution_count": 5,
   "id": "7596f860",
   "metadata": {
    "execution": {
     "iopub.execute_input": "2022-10-15T10:31:32.967835Z",
     "iopub.status.busy": "2022-10-15T10:31:32.966947Z",
     "iopub.status.idle": "2022-10-15T10:31:32.996603Z",
     "shell.execute_reply": "2022-10-15T10:31:32.995728Z"
    },
    "papermill": {
     "duration": 0.045235,
     "end_time": "2022-10-15T10:31:32.998809",
     "exception": false,
     "start_time": "2022-10-15T10:31:32.953574",
     "status": "completed"
    },
    "tags": []
   },
   "outputs": [
    {
     "data": {
      "text/html": [
       "<div>\n",
       "<style scoped>\n",
       "    .dataframe tbody tr th:only-of-type {\n",
       "        vertical-align: middle;\n",
       "    }\n",
       "\n",
       "    .dataframe tbody tr th {\n",
       "        vertical-align: top;\n",
       "    }\n",
       "\n",
       "    .dataframe thead th {\n",
       "        text-align: right;\n",
       "    }\n",
       "</style>\n",
       "<table border=\"1\" class=\"dataframe\">\n",
       "  <thead>\n",
       "    <tr style=\"text-align: right;\">\n",
       "      <th></th>\n",
       "      <th>id</th>\n",
       "      <th>diagnosis</th>\n",
       "      <th>radius_mean</th>\n",
       "      <th>texture_mean</th>\n",
       "      <th>perimeter_mean</th>\n",
       "      <th>area_mean</th>\n",
       "      <th>smoothness_mean</th>\n",
       "      <th>compactness_mean</th>\n",
       "      <th>concavity_mean</th>\n",
       "      <th>concave points_mean</th>\n",
       "      <th>...</th>\n",
       "      <th>radius_worst</th>\n",
       "      <th>texture_worst</th>\n",
       "      <th>perimeter_worst</th>\n",
       "      <th>area_worst</th>\n",
       "      <th>smoothness_worst</th>\n",
       "      <th>compactness_worst</th>\n",
       "      <th>concavity_worst</th>\n",
       "      <th>concave points_worst</th>\n",
       "      <th>symmetry_worst</th>\n",
       "      <th>fractal_dimension_worst</th>\n",
       "    </tr>\n",
       "  </thead>\n",
       "  <tbody>\n",
       "    <tr>\n",
       "      <th>564</th>\n",
       "      <td>926424</td>\n",
       "      <td>M</td>\n",
       "      <td>21.56</td>\n",
       "      <td>22.39</td>\n",
       "      <td>142.00</td>\n",
       "      <td>1479.0</td>\n",
       "      <td>0.11100</td>\n",
       "      <td>0.11590</td>\n",
       "      <td>0.24390</td>\n",
       "      <td>0.13890</td>\n",
       "      <td>...</td>\n",
       "      <td>25.450</td>\n",
       "      <td>26.40</td>\n",
       "      <td>166.10</td>\n",
       "      <td>2027.0</td>\n",
       "      <td>0.14100</td>\n",
       "      <td>0.21130</td>\n",
       "      <td>0.4107</td>\n",
       "      <td>0.2216</td>\n",
       "      <td>0.2060</td>\n",
       "      <td>0.07115</td>\n",
       "    </tr>\n",
       "    <tr>\n",
       "      <th>565</th>\n",
       "      <td>926682</td>\n",
       "      <td>M</td>\n",
       "      <td>20.13</td>\n",
       "      <td>28.25</td>\n",
       "      <td>131.20</td>\n",
       "      <td>1261.0</td>\n",
       "      <td>0.09780</td>\n",
       "      <td>0.10340</td>\n",
       "      <td>0.14400</td>\n",
       "      <td>0.09791</td>\n",
       "      <td>...</td>\n",
       "      <td>23.690</td>\n",
       "      <td>38.25</td>\n",
       "      <td>155.00</td>\n",
       "      <td>1731.0</td>\n",
       "      <td>0.11660</td>\n",
       "      <td>0.19220</td>\n",
       "      <td>0.3215</td>\n",
       "      <td>0.1628</td>\n",
       "      <td>0.2572</td>\n",
       "      <td>0.06637</td>\n",
       "    </tr>\n",
       "    <tr>\n",
       "      <th>566</th>\n",
       "      <td>926954</td>\n",
       "      <td>M</td>\n",
       "      <td>16.60</td>\n",
       "      <td>28.08</td>\n",
       "      <td>108.30</td>\n",
       "      <td>858.1</td>\n",
       "      <td>0.08455</td>\n",
       "      <td>0.10230</td>\n",
       "      <td>0.09251</td>\n",
       "      <td>0.05302</td>\n",
       "      <td>...</td>\n",
       "      <td>18.980</td>\n",
       "      <td>34.12</td>\n",
       "      <td>126.70</td>\n",
       "      <td>1124.0</td>\n",
       "      <td>0.11390</td>\n",
       "      <td>0.30940</td>\n",
       "      <td>0.3403</td>\n",
       "      <td>0.1418</td>\n",
       "      <td>0.2218</td>\n",
       "      <td>0.07820</td>\n",
       "    </tr>\n",
       "    <tr>\n",
       "      <th>567</th>\n",
       "      <td>927241</td>\n",
       "      <td>M</td>\n",
       "      <td>20.60</td>\n",
       "      <td>29.33</td>\n",
       "      <td>140.10</td>\n",
       "      <td>1265.0</td>\n",
       "      <td>0.11780</td>\n",
       "      <td>0.27700</td>\n",
       "      <td>0.35140</td>\n",
       "      <td>0.15200</td>\n",
       "      <td>...</td>\n",
       "      <td>25.740</td>\n",
       "      <td>39.42</td>\n",
       "      <td>184.60</td>\n",
       "      <td>1821.0</td>\n",
       "      <td>0.16500</td>\n",
       "      <td>0.86810</td>\n",
       "      <td>0.9387</td>\n",
       "      <td>0.2650</td>\n",
       "      <td>0.4087</td>\n",
       "      <td>0.12400</td>\n",
       "    </tr>\n",
       "    <tr>\n",
       "      <th>568</th>\n",
       "      <td>92751</td>\n",
       "      <td>B</td>\n",
       "      <td>7.76</td>\n",
       "      <td>24.54</td>\n",
       "      <td>47.92</td>\n",
       "      <td>181.0</td>\n",
       "      <td>0.05263</td>\n",
       "      <td>0.04362</td>\n",
       "      <td>0.00000</td>\n",
       "      <td>0.00000</td>\n",
       "      <td>...</td>\n",
       "      <td>9.456</td>\n",
       "      <td>30.37</td>\n",
       "      <td>59.16</td>\n",
       "      <td>268.6</td>\n",
       "      <td>0.08996</td>\n",
       "      <td>0.06444</td>\n",
       "      <td>0.0000</td>\n",
       "      <td>0.0000</td>\n",
       "      <td>0.2871</td>\n",
       "      <td>0.07039</td>\n",
       "    </tr>\n",
       "  </tbody>\n",
       "</table>\n",
       "<p>5 rows × 32 columns</p>\n",
       "</div>"
      ],
      "text/plain": [
       "         id diagnosis  radius_mean  texture_mean  perimeter_mean  area_mean  \\\n",
       "564  926424         M        21.56         22.39          142.00     1479.0   \n",
       "565  926682         M        20.13         28.25          131.20     1261.0   \n",
       "566  926954         M        16.60         28.08          108.30      858.1   \n",
       "567  927241         M        20.60         29.33          140.10     1265.0   \n",
       "568   92751         B         7.76         24.54           47.92      181.0   \n",
       "\n",
       "     smoothness_mean  compactness_mean  concavity_mean  concave points_mean  \\\n",
       "564          0.11100           0.11590         0.24390              0.13890   \n",
       "565          0.09780           0.10340         0.14400              0.09791   \n",
       "566          0.08455           0.10230         0.09251              0.05302   \n",
       "567          0.11780           0.27700         0.35140              0.15200   \n",
       "568          0.05263           0.04362         0.00000              0.00000   \n",
       "\n",
       "     ...  radius_worst  texture_worst  perimeter_worst  area_worst  \\\n",
       "564  ...        25.450          26.40           166.10      2027.0   \n",
       "565  ...        23.690          38.25           155.00      1731.0   \n",
       "566  ...        18.980          34.12           126.70      1124.0   \n",
       "567  ...        25.740          39.42           184.60      1821.0   \n",
       "568  ...         9.456          30.37            59.16       268.6   \n",
       "\n",
       "     smoothness_worst  compactness_worst  concavity_worst  \\\n",
       "564           0.14100            0.21130           0.4107   \n",
       "565           0.11660            0.19220           0.3215   \n",
       "566           0.11390            0.30940           0.3403   \n",
       "567           0.16500            0.86810           0.9387   \n",
       "568           0.08996            0.06444           0.0000   \n",
       "\n",
       "     concave points_worst  symmetry_worst  fractal_dimension_worst  \n",
       "564                0.2216          0.2060                  0.07115  \n",
       "565                0.1628          0.2572                  0.06637  \n",
       "566                0.1418          0.2218                  0.07820  \n",
       "567                0.2650          0.4087                  0.12400  \n",
       "568                0.0000          0.2871                  0.07039  \n",
       "\n",
       "[5 rows x 32 columns]"
      ]
     },
     "execution_count": 5,
     "metadata": {},
     "output_type": "execute_result"
    }
   ],
   "source": [
    "# Show the Tail of the dataFrame \n",
    "df.tail()"
   ]
  },
  {
   "cell_type": "markdown",
   "id": "62fe7499",
   "metadata": {
    "execution": {
     "iopub.execute_input": "2022-10-14T17:51:04.072622Z",
     "iopub.status.busy": "2022-10-14T17:51:04.072307Z",
     "iopub.status.idle": "2022-10-14T17:51:04.078337Z",
     "shell.execute_reply": "2022-10-14T17:51:04.077271Z",
     "shell.execute_reply.started": "2022-10-14T17:51:04.072599Z"
    },
    "papermill": {
     "duration": 0.01195,
     "end_time": "2022-10-15T10:31:33.023500",
     "exception": false,
     "start_time": "2022-10-15T10:31:33.011550",
     "status": "completed"
    },
    "tags": []
   },
   "source": [
    "<div style=\"color:blue;font-size:20px;font-weight:bolder\">Explore The Data</div> "
   ]
  },
  {
   "cell_type": "code",
   "execution_count": 6,
   "id": "beefa31a",
   "metadata": {
    "execution": {
     "iopub.execute_input": "2022-10-15T10:31:33.050831Z",
     "iopub.status.busy": "2022-10-15T10:31:33.049422Z",
     "iopub.status.idle": "2022-10-15T10:31:33.057389Z",
     "shell.execute_reply": "2022-10-15T10:31:33.056186Z"
    },
    "papermill": {
     "duration": 0.024049,
     "end_time": "2022-10-15T10:31:33.059615",
     "exception": false,
     "start_time": "2022-10-15T10:31:33.035566",
     "status": "completed"
    },
    "tags": []
   },
   "outputs": [
    {
     "data": {
      "text/plain": [
       "(569, 32)"
      ]
     },
     "execution_count": 6,
     "metadata": {},
     "output_type": "execute_result"
    }
   ],
   "source": [
    "# Number of rows and columns \n",
    "df.shape"
   ]
  },
  {
   "cell_type": "code",
   "execution_count": 7,
   "id": "eb2aae66",
   "metadata": {
    "execution": {
     "iopub.execute_input": "2022-10-15T10:31:33.086598Z",
     "iopub.status.busy": "2022-10-15T10:31:33.085718Z",
     "iopub.status.idle": "2022-10-15T10:31:33.124575Z",
     "shell.execute_reply": "2022-10-15T10:31:33.123117Z"
    },
    "papermill": {
     "duration": 0.055477,
     "end_time": "2022-10-15T10:31:33.127355",
     "exception": false,
     "start_time": "2022-10-15T10:31:33.071878",
     "status": "completed"
    },
    "tags": []
   },
   "outputs": [
    {
     "data": {
      "text/html": [
       "<div>\n",
       "<style scoped>\n",
       "    .dataframe tbody tr th:only-of-type {\n",
       "        vertical-align: middle;\n",
       "    }\n",
       "\n",
       "    .dataframe tbody tr th {\n",
       "        vertical-align: top;\n",
       "    }\n",
       "\n",
       "    .dataframe thead th {\n",
       "        text-align: right;\n",
       "    }\n",
       "</style>\n",
       "<table border=\"1\" class=\"dataframe\">\n",
       "  <thead>\n",
       "    <tr style=\"text-align: right;\">\n",
       "      <th></th>\n",
       "      <th>column</th>\n",
       "      <th>dtypes</th>\n",
       "      <th>nunique</th>\n",
       "      <th>sum_null</th>\n",
       "    </tr>\n",
       "  </thead>\n",
       "  <tbody>\n",
       "    <tr>\n",
       "      <th>0</th>\n",
       "      <td>id</td>\n",
       "      <td>int64</td>\n",
       "      <td>569</td>\n",
       "      <td>0</td>\n",
       "    </tr>\n",
       "    <tr>\n",
       "      <th>1</th>\n",
       "      <td>diagnosis</td>\n",
       "      <td>object</td>\n",
       "      <td>2</td>\n",
       "      <td>0</td>\n",
       "    </tr>\n",
       "    <tr>\n",
       "      <th>2</th>\n",
       "      <td>radius_mean</td>\n",
       "      <td>float64</td>\n",
       "      <td>456</td>\n",
       "      <td>0</td>\n",
       "    </tr>\n",
       "    <tr>\n",
       "      <th>3</th>\n",
       "      <td>texture_mean</td>\n",
       "      <td>float64</td>\n",
       "      <td>479</td>\n",
       "      <td>0</td>\n",
       "    </tr>\n",
       "    <tr>\n",
       "      <th>4</th>\n",
       "      <td>perimeter_mean</td>\n",
       "      <td>float64</td>\n",
       "      <td>522</td>\n",
       "      <td>0</td>\n",
       "    </tr>\n",
       "    <tr>\n",
       "      <th>5</th>\n",
       "      <td>area_mean</td>\n",
       "      <td>float64</td>\n",
       "      <td>539</td>\n",
       "      <td>0</td>\n",
       "    </tr>\n",
       "    <tr>\n",
       "      <th>6</th>\n",
       "      <td>smoothness_mean</td>\n",
       "      <td>float64</td>\n",
       "      <td>474</td>\n",
       "      <td>0</td>\n",
       "    </tr>\n",
       "    <tr>\n",
       "      <th>7</th>\n",
       "      <td>compactness_mean</td>\n",
       "      <td>float64</td>\n",
       "      <td>537</td>\n",
       "      <td>0</td>\n",
       "    </tr>\n",
       "    <tr>\n",
       "      <th>8</th>\n",
       "      <td>concavity_mean</td>\n",
       "      <td>float64</td>\n",
       "      <td>537</td>\n",
       "      <td>0</td>\n",
       "    </tr>\n",
       "    <tr>\n",
       "      <th>9</th>\n",
       "      <td>concave points_mean</td>\n",
       "      <td>float64</td>\n",
       "      <td>542</td>\n",
       "      <td>0</td>\n",
       "    </tr>\n",
       "    <tr>\n",
       "      <th>10</th>\n",
       "      <td>symmetry_mean</td>\n",
       "      <td>float64</td>\n",
       "      <td>432</td>\n",
       "      <td>0</td>\n",
       "    </tr>\n",
       "    <tr>\n",
       "      <th>11</th>\n",
       "      <td>fractal_dimension_mean</td>\n",
       "      <td>float64</td>\n",
       "      <td>499</td>\n",
       "      <td>0</td>\n",
       "    </tr>\n",
       "    <tr>\n",
       "      <th>12</th>\n",
       "      <td>radius_se</td>\n",
       "      <td>float64</td>\n",
       "      <td>540</td>\n",
       "      <td>0</td>\n",
       "    </tr>\n",
       "    <tr>\n",
       "      <th>13</th>\n",
       "      <td>texture_se</td>\n",
       "      <td>float64</td>\n",
       "      <td>519</td>\n",
       "      <td>0</td>\n",
       "    </tr>\n",
       "    <tr>\n",
       "      <th>14</th>\n",
       "      <td>perimeter_se</td>\n",
       "      <td>float64</td>\n",
       "      <td>533</td>\n",
       "      <td>0</td>\n",
       "    </tr>\n",
       "    <tr>\n",
       "      <th>15</th>\n",
       "      <td>area_se</td>\n",
       "      <td>float64</td>\n",
       "      <td>528</td>\n",
       "      <td>0</td>\n",
       "    </tr>\n",
       "    <tr>\n",
       "      <th>16</th>\n",
       "      <td>smoothness_se</td>\n",
       "      <td>float64</td>\n",
       "      <td>547</td>\n",
       "      <td>0</td>\n",
       "    </tr>\n",
       "    <tr>\n",
       "      <th>17</th>\n",
       "      <td>compactness_se</td>\n",
       "      <td>float64</td>\n",
       "      <td>541</td>\n",
       "      <td>0</td>\n",
       "    </tr>\n",
       "    <tr>\n",
       "      <th>18</th>\n",
       "      <td>concavity_se</td>\n",
       "      <td>float64</td>\n",
       "      <td>533</td>\n",
       "      <td>0</td>\n",
       "    </tr>\n",
       "    <tr>\n",
       "      <th>19</th>\n",
       "      <td>concave points_se</td>\n",
       "      <td>float64</td>\n",
       "      <td>507</td>\n",
       "      <td>0</td>\n",
       "    </tr>\n",
       "    <tr>\n",
       "      <th>20</th>\n",
       "      <td>symmetry_se</td>\n",
       "      <td>float64</td>\n",
       "      <td>498</td>\n",
       "      <td>0</td>\n",
       "    </tr>\n",
       "    <tr>\n",
       "      <th>21</th>\n",
       "      <td>fractal_dimension_se</td>\n",
       "      <td>float64</td>\n",
       "      <td>545</td>\n",
       "      <td>0</td>\n",
       "    </tr>\n",
       "    <tr>\n",
       "      <th>22</th>\n",
       "      <td>radius_worst</td>\n",
       "      <td>float64</td>\n",
       "      <td>457</td>\n",
       "      <td>0</td>\n",
       "    </tr>\n",
       "    <tr>\n",
       "      <th>23</th>\n",
       "      <td>texture_worst</td>\n",
       "      <td>float64</td>\n",
       "      <td>511</td>\n",
       "      <td>0</td>\n",
       "    </tr>\n",
       "    <tr>\n",
       "      <th>24</th>\n",
       "      <td>perimeter_worst</td>\n",
       "      <td>float64</td>\n",
       "      <td>514</td>\n",
       "      <td>0</td>\n",
       "    </tr>\n",
       "    <tr>\n",
       "      <th>25</th>\n",
       "      <td>area_worst</td>\n",
       "      <td>float64</td>\n",
       "      <td>544</td>\n",
       "      <td>0</td>\n",
       "    </tr>\n",
       "    <tr>\n",
       "      <th>26</th>\n",
       "      <td>smoothness_worst</td>\n",
       "      <td>float64</td>\n",
       "      <td>411</td>\n",
       "      <td>0</td>\n",
       "    </tr>\n",
       "    <tr>\n",
       "      <th>27</th>\n",
       "      <td>compactness_worst</td>\n",
       "      <td>float64</td>\n",
       "      <td>529</td>\n",
       "      <td>0</td>\n",
       "    </tr>\n",
       "    <tr>\n",
       "      <th>28</th>\n",
       "      <td>concavity_worst</td>\n",
       "      <td>float64</td>\n",
       "      <td>539</td>\n",
       "      <td>0</td>\n",
       "    </tr>\n",
       "    <tr>\n",
       "      <th>29</th>\n",
       "      <td>concave points_worst</td>\n",
       "      <td>float64</td>\n",
       "      <td>492</td>\n",
       "      <td>0</td>\n",
       "    </tr>\n",
       "    <tr>\n",
       "      <th>30</th>\n",
       "      <td>symmetry_worst</td>\n",
       "      <td>float64</td>\n",
       "      <td>500</td>\n",
       "      <td>0</td>\n",
       "    </tr>\n",
       "    <tr>\n",
       "      <th>31</th>\n",
       "      <td>fractal_dimension_worst</td>\n",
       "      <td>float64</td>\n",
       "      <td>535</td>\n",
       "      <td>0</td>\n",
       "    </tr>\n",
       "  </tbody>\n",
       "</table>\n",
       "</div>"
      ],
      "text/plain": [
       "                     column   dtypes  nunique  sum_null\n",
       "0                        id    int64      569         0\n",
       "1                 diagnosis   object        2         0\n",
       "2               radius_mean  float64      456         0\n",
       "3              texture_mean  float64      479         0\n",
       "4            perimeter_mean  float64      522         0\n",
       "5                 area_mean  float64      539         0\n",
       "6           smoothness_mean  float64      474         0\n",
       "7          compactness_mean  float64      537         0\n",
       "8            concavity_mean  float64      537         0\n",
       "9       concave points_mean  float64      542         0\n",
       "10            symmetry_mean  float64      432         0\n",
       "11   fractal_dimension_mean  float64      499         0\n",
       "12                radius_se  float64      540         0\n",
       "13               texture_se  float64      519         0\n",
       "14             perimeter_se  float64      533         0\n",
       "15                  area_se  float64      528         0\n",
       "16            smoothness_se  float64      547         0\n",
       "17           compactness_se  float64      541         0\n",
       "18             concavity_se  float64      533         0\n",
       "19        concave points_se  float64      507         0\n",
       "20              symmetry_se  float64      498         0\n",
       "21     fractal_dimension_se  float64      545         0\n",
       "22             radius_worst  float64      457         0\n",
       "23            texture_worst  float64      511         0\n",
       "24          perimeter_worst  float64      514         0\n",
       "25               area_worst  float64      544         0\n",
       "26         smoothness_worst  float64      411         0\n",
       "27        compactness_worst  float64      529         0\n",
       "28          concavity_worst  float64      539         0\n",
       "29     concave points_worst  float64      492         0\n",
       "30           symmetry_worst  float64      500         0\n",
       "31  fractal_dimension_worst  float64      535         0"
      ]
     },
     "execution_count": 7,
     "metadata": {},
     "output_type": "execute_result"
    }
   ],
   "source": [
    "# Summary to all columns \n",
    "def check(df):\n",
    "    l=[]\n",
    "    columns=df.columns\n",
    "    for col in columns:\n",
    "        dtypes=df[col].dtypes\n",
    "        nunique=df[col].nunique()\n",
    "        sum_null=df[col].isnull().sum()\n",
    "        l.append([col,dtypes,nunique,sum_null])\n",
    "    df_check=pd.DataFrame(l)\n",
    "    df_check.columns=['column','dtypes','nunique','sum_null']\n",
    "    return df_check \n",
    "check(df)"
   ]
  },
  {
   "cell_type": "code",
   "execution_count": 8,
   "id": "86fd991a",
   "metadata": {
    "execution": {
     "iopub.execute_input": "2022-10-15T10:31:33.157435Z",
     "iopub.status.busy": "2022-10-15T10:31:33.156730Z",
     "iopub.status.idle": "2022-10-15T10:31:33.250672Z",
     "shell.execute_reply": "2022-10-15T10:31:33.249494Z"
    },
    "papermill": {
     "duration": 0.111602,
     "end_time": "2022-10-15T10:31:33.253117",
     "exception": false,
     "start_time": "2022-10-15T10:31:33.141515",
     "status": "completed"
    },
    "tags": []
   },
   "outputs": [
    {
     "data": {
      "text/html": [
       "<div>\n",
       "<style scoped>\n",
       "    .dataframe tbody tr th:only-of-type {\n",
       "        vertical-align: middle;\n",
       "    }\n",
       "\n",
       "    .dataframe tbody tr th {\n",
       "        vertical-align: top;\n",
       "    }\n",
       "\n",
       "    .dataframe thead th {\n",
       "        text-align: right;\n",
       "    }\n",
       "</style>\n",
       "<table border=\"1\" class=\"dataframe\">\n",
       "  <thead>\n",
       "    <tr style=\"text-align: right;\">\n",
       "      <th></th>\n",
       "      <th>count</th>\n",
       "      <th>mean</th>\n",
       "      <th>std</th>\n",
       "      <th>min</th>\n",
       "      <th>25%</th>\n",
       "      <th>50%</th>\n",
       "      <th>75%</th>\n",
       "      <th>max</th>\n",
       "    </tr>\n",
       "  </thead>\n",
       "  <tbody>\n",
       "    <tr>\n",
       "      <th>id</th>\n",
       "      <td>569.0</td>\n",
       "      <td>3.037183e+07</td>\n",
       "      <td>1.250206e+08</td>\n",
       "      <td>8670.000000</td>\n",
       "      <td>869218.000000</td>\n",
       "      <td>906024.000000</td>\n",
       "      <td>8.813129e+06</td>\n",
       "      <td>9.113205e+08</td>\n",
       "    </tr>\n",
       "    <tr>\n",
       "      <th>radius_mean</th>\n",
       "      <td>569.0</td>\n",
       "      <td>1.412729e+01</td>\n",
       "      <td>3.524049e+00</td>\n",
       "      <td>6.981000</td>\n",
       "      <td>11.700000</td>\n",
       "      <td>13.370000</td>\n",
       "      <td>1.578000e+01</td>\n",
       "      <td>2.811000e+01</td>\n",
       "    </tr>\n",
       "    <tr>\n",
       "      <th>texture_mean</th>\n",
       "      <td>569.0</td>\n",
       "      <td>1.928965e+01</td>\n",
       "      <td>4.301036e+00</td>\n",
       "      <td>9.710000</td>\n",
       "      <td>16.170000</td>\n",
       "      <td>18.840000</td>\n",
       "      <td>2.180000e+01</td>\n",
       "      <td>3.928000e+01</td>\n",
       "    </tr>\n",
       "    <tr>\n",
       "      <th>perimeter_mean</th>\n",
       "      <td>569.0</td>\n",
       "      <td>9.196903e+01</td>\n",
       "      <td>2.429898e+01</td>\n",
       "      <td>43.790000</td>\n",
       "      <td>75.170000</td>\n",
       "      <td>86.240000</td>\n",
       "      <td>1.041000e+02</td>\n",
       "      <td>1.885000e+02</td>\n",
       "    </tr>\n",
       "    <tr>\n",
       "      <th>area_mean</th>\n",
       "      <td>569.0</td>\n",
       "      <td>6.548891e+02</td>\n",
       "      <td>3.519141e+02</td>\n",
       "      <td>143.500000</td>\n",
       "      <td>420.300000</td>\n",
       "      <td>551.100000</td>\n",
       "      <td>7.827000e+02</td>\n",
       "      <td>2.501000e+03</td>\n",
       "    </tr>\n",
       "    <tr>\n",
       "      <th>smoothness_mean</th>\n",
       "      <td>569.0</td>\n",
       "      <td>9.636028e-02</td>\n",
       "      <td>1.406413e-02</td>\n",
       "      <td>0.052630</td>\n",
       "      <td>0.086370</td>\n",
       "      <td>0.095870</td>\n",
       "      <td>1.053000e-01</td>\n",
       "      <td>1.634000e-01</td>\n",
       "    </tr>\n",
       "    <tr>\n",
       "      <th>compactness_mean</th>\n",
       "      <td>569.0</td>\n",
       "      <td>1.043410e-01</td>\n",
       "      <td>5.281276e-02</td>\n",
       "      <td>0.019380</td>\n",
       "      <td>0.064920</td>\n",
       "      <td>0.092630</td>\n",
       "      <td>1.304000e-01</td>\n",
       "      <td>3.454000e-01</td>\n",
       "    </tr>\n",
       "    <tr>\n",
       "      <th>concavity_mean</th>\n",
       "      <td>569.0</td>\n",
       "      <td>8.879932e-02</td>\n",
       "      <td>7.971981e-02</td>\n",
       "      <td>0.000000</td>\n",
       "      <td>0.029560</td>\n",
       "      <td>0.061540</td>\n",
       "      <td>1.307000e-01</td>\n",
       "      <td>4.268000e-01</td>\n",
       "    </tr>\n",
       "    <tr>\n",
       "      <th>concave points_mean</th>\n",
       "      <td>569.0</td>\n",
       "      <td>4.891915e-02</td>\n",
       "      <td>3.880284e-02</td>\n",
       "      <td>0.000000</td>\n",
       "      <td>0.020310</td>\n",
       "      <td>0.033500</td>\n",
       "      <td>7.400000e-02</td>\n",
       "      <td>2.012000e-01</td>\n",
       "    </tr>\n",
       "    <tr>\n",
       "      <th>symmetry_mean</th>\n",
       "      <td>569.0</td>\n",
       "      <td>1.811619e-01</td>\n",
       "      <td>2.741428e-02</td>\n",
       "      <td>0.106000</td>\n",
       "      <td>0.161900</td>\n",
       "      <td>0.179200</td>\n",
       "      <td>1.957000e-01</td>\n",
       "      <td>3.040000e-01</td>\n",
       "    </tr>\n",
       "    <tr>\n",
       "      <th>fractal_dimension_mean</th>\n",
       "      <td>569.0</td>\n",
       "      <td>6.279761e-02</td>\n",
       "      <td>7.060363e-03</td>\n",
       "      <td>0.049960</td>\n",
       "      <td>0.057700</td>\n",
       "      <td>0.061540</td>\n",
       "      <td>6.612000e-02</td>\n",
       "      <td>9.744000e-02</td>\n",
       "    </tr>\n",
       "    <tr>\n",
       "      <th>radius_se</th>\n",
       "      <td>569.0</td>\n",
       "      <td>4.051721e-01</td>\n",
       "      <td>2.773127e-01</td>\n",
       "      <td>0.111500</td>\n",
       "      <td>0.232400</td>\n",
       "      <td>0.324200</td>\n",
       "      <td>4.789000e-01</td>\n",
       "      <td>2.873000e+00</td>\n",
       "    </tr>\n",
       "    <tr>\n",
       "      <th>texture_se</th>\n",
       "      <td>569.0</td>\n",
       "      <td>1.216853e+00</td>\n",
       "      <td>5.516484e-01</td>\n",
       "      <td>0.360200</td>\n",
       "      <td>0.833900</td>\n",
       "      <td>1.108000</td>\n",
       "      <td>1.474000e+00</td>\n",
       "      <td>4.885000e+00</td>\n",
       "    </tr>\n",
       "    <tr>\n",
       "      <th>perimeter_se</th>\n",
       "      <td>569.0</td>\n",
       "      <td>2.866059e+00</td>\n",
       "      <td>2.021855e+00</td>\n",
       "      <td>0.757000</td>\n",
       "      <td>1.606000</td>\n",
       "      <td>2.287000</td>\n",
       "      <td>3.357000e+00</td>\n",
       "      <td>2.198000e+01</td>\n",
       "    </tr>\n",
       "    <tr>\n",
       "      <th>area_se</th>\n",
       "      <td>569.0</td>\n",
       "      <td>4.033708e+01</td>\n",
       "      <td>4.549101e+01</td>\n",
       "      <td>6.802000</td>\n",
       "      <td>17.850000</td>\n",
       "      <td>24.530000</td>\n",
       "      <td>4.519000e+01</td>\n",
       "      <td>5.422000e+02</td>\n",
       "    </tr>\n",
       "    <tr>\n",
       "      <th>smoothness_se</th>\n",
       "      <td>569.0</td>\n",
       "      <td>7.040979e-03</td>\n",
       "      <td>3.002518e-03</td>\n",
       "      <td>0.001713</td>\n",
       "      <td>0.005169</td>\n",
       "      <td>0.006380</td>\n",
       "      <td>8.146000e-03</td>\n",
       "      <td>3.113000e-02</td>\n",
       "    </tr>\n",
       "    <tr>\n",
       "      <th>compactness_se</th>\n",
       "      <td>569.0</td>\n",
       "      <td>2.547814e-02</td>\n",
       "      <td>1.790818e-02</td>\n",
       "      <td>0.002252</td>\n",
       "      <td>0.013080</td>\n",
       "      <td>0.020450</td>\n",
       "      <td>3.245000e-02</td>\n",
       "      <td>1.354000e-01</td>\n",
       "    </tr>\n",
       "    <tr>\n",
       "      <th>concavity_se</th>\n",
       "      <td>569.0</td>\n",
       "      <td>3.189372e-02</td>\n",
       "      <td>3.018606e-02</td>\n",
       "      <td>0.000000</td>\n",
       "      <td>0.015090</td>\n",
       "      <td>0.025890</td>\n",
       "      <td>4.205000e-02</td>\n",
       "      <td>3.960000e-01</td>\n",
       "    </tr>\n",
       "    <tr>\n",
       "      <th>concave points_se</th>\n",
       "      <td>569.0</td>\n",
       "      <td>1.179614e-02</td>\n",
       "      <td>6.170285e-03</td>\n",
       "      <td>0.000000</td>\n",
       "      <td>0.007638</td>\n",
       "      <td>0.010930</td>\n",
       "      <td>1.471000e-02</td>\n",
       "      <td>5.279000e-02</td>\n",
       "    </tr>\n",
       "    <tr>\n",
       "      <th>symmetry_se</th>\n",
       "      <td>569.0</td>\n",
       "      <td>2.054230e-02</td>\n",
       "      <td>8.266372e-03</td>\n",
       "      <td>0.007882</td>\n",
       "      <td>0.015160</td>\n",
       "      <td>0.018730</td>\n",
       "      <td>2.348000e-02</td>\n",
       "      <td>7.895000e-02</td>\n",
       "    </tr>\n",
       "    <tr>\n",
       "      <th>fractal_dimension_se</th>\n",
       "      <td>569.0</td>\n",
       "      <td>3.794904e-03</td>\n",
       "      <td>2.646071e-03</td>\n",
       "      <td>0.000895</td>\n",
       "      <td>0.002248</td>\n",
       "      <td>0.003187</td>\n",
       "      <td>4.558000e-03</td>\n",
       "      <td>2.984000e-02</td>\n",
       "    </tr>\n",
       "    <tr>\n",
       "      <th>radius_worst</th>\n",
       "      <td>569.0</td>\n",
       "      <td>1.626919e+01</td>\n",
       "      <td>4.833242e+00</td>\n",
       "      <td>7.930000</td>\n",
       "      <td>13.010000</td>\n",
       "      <td>14.970000</td>\n",
       "      <td>1.879000e+01</td>\n",
       "      <td>3.604000e+01</td>\n",
       "    </tr>\n",
       "    <tr>\n",
       "      <th>texture_worst</th>\n",
       "      <td>569.0</td>\n",
       "      <td>2.567722e+01</td>\n",
       "      <td>6.146258e+00</td>\n",
       "      <td>12.020000</td>\n",
       "      <td>21.080000</td>\n",
       "      <td>25.410000</td>\n",
       "      <td>2.972000e+01</td>\n",
       "      <td>4.954000e+01</td>\n",
       "    </tr>\n",
       "    <tr>\n",
       "      <th>perimeter_worst</th>\n",
       "      <td>569.0</td>\n",
       "      <td>1.072612e+02</td>\n",
       "      <td>3.360254e+01</td>\n",
       "      <td>50.410000</td>\n",
       "      <td>84.110000</td>\n",
       "      <td>97.660000</td>\n",
       "      <td>1.254000e+02</td>\n",
       "      <td>2.512000e+02</td>\n",
       "    </tr>\n",
       "    <tr>\n",
       "      <th>area_worst</th>\n",
       "      <td>569.0</td>\n",
       "      <td>8.805831e+02</td>\n",
       "      <td>5.693570e+02</td>\n",
       "      <td>185.200000</td>\n",
       "      <td>515.300000</td>\n",
       "      <td>686.500000</td>\n",
       "      <td>1.084000e+03</td>\n",
       "      <td>4.254000e+03</td>\n",
       "    </tr>\n",
       "    <tr>\n",
       "      <th>smoothness_worst</th>\n",
       "      <td>569.0</td>\n",
       "      <td>1.323686e-01</td>\n",
       "      <td>2.283243e-02</td>\n",
       "      <td>0.071170</td>\n",
       "      <td>0.116600</td>\n",
       "      <td>0.131300</td>\n",
       "      <td>1.460000e-01</td>\n",
       "      <td>2.226000e-01</td>\n",
       "    </tr>\n",
       "    <tr>\n",
       "      <th>compactness_worst</th>\n",
       "      <td>569.0</td>\n",
       "      <td>2.542650e-01</td>\n",
       "      <td>1.573365e-01</td>\n",
       "      <td>0.027290</td>\n",
       "      <td>0.147200</td>\n",
       "      <td>0.211900</td>\n",
       "      <td>3.391000e-01</td>\n",
       "      <td>1.058000e+00</td>\n",
       "    </tr>\n",
       "    <tr>\n",
       "      <th>concavity_worst</th>\n",
       "      <td>569.0</td>\n",
       "      <td>2.721885e-01</td>\n",
       "      <td>2.086243e-01</td>\n",
       "      <td>0.000000</td>\n",
       "      <td>0.114500</td>\n",
       "      <td>0.226700</td>\n",
       "      <td>3.829000e-01</td>\n",
       "      <td>1.252000e+00</td>\n",
       "    </tr>\n",
       "    <tr>\n",
       "      <th>concave points_worst</th>\n",
       "      <td>569.0</td>\n",
       "      <td>1.146062e-01</td>\n",
       "      <td>6.573234e-02</td>\n",
       "      <td>0.000000</td>\n",
       "      <td>0.064930</td>\n",
       "      <td>0.099930</td>\n",
       "      <td>1.614000e-01</td>\n",
       "      <td>2.910000e-01</td>\n",
       "    </tr>\n",
       "    <tr>\n",
       "      <th>symmetry_worst</th>\n",
       "      <td>569.0</td>\n",
       "      <td>2.900756e-01</td>\n",
       "      <td>6.186747e-02</td>\n",
       "      <td>0.156500</td>\n",
       "      <td>0.250400</td>\n",
       "      <td>0.282200</td>\n",
       "      <td>3.179000e-01</td>\n",
       "      <td>6.638000e-01</td>\n",
       "    </tr>\n",
       "    <tr>\n",
       "      <th>fractal_dimension_worst</th>\n",
       "      <td>569.0</td>\n",
       "      <td>8.394582e-02</td>\n",
       "      <td>1.806127e-02</td>\n",
       "      <td>0.055040</td>\n",
       "      <td>0.071460</td>\n",
       "      <td>0.080040</td>\n",
       "      <td>9.208000e-02</td>\n",
       "      <td>2.075000e-01</td>\n",
       "    </tr>\n",
       "  </tbody>\n",
       "</table>\n",
       "</div>"
      ],
      "text/plain": [
       "                         count          mean           std          min  \\\n",
       "id                       569.0  3.037183e+07  1.250206e+08  8670.000000   \n",
       "radius_mean              569.0  1.412729e+01  3.524049e+00     6.981000   \n",
       "texture_mean             569.0  1.928965e+01  4.301036e+00     9.710000   \n",
       "perimeter_mean           569.0  9.196903e+01  2.429898e+01    43.790000   \n",
       "area_mean                569.0  6.548891e+02  3.519141e+02   143.500000   \n",
       "smoothness_mean          569.0  9.636028e-02  1.406413e-02     0.052630   \n",
       "compactness_mean         569.0  1.043410e-01  5.281276e-02     0.019380   \n",
       "concavity_mean           569.0  8.879932e-02  7.971981e-02     0.000000   \n",
       "concave points_mean      569.0  4.891915e-02  3.880284e-02     0.000000   \n",
       "symmetry_mean            569.0  1.811619e-01  2.741428e-02     0.106000   \n",
       "fractal_dimension_mean   569.0  6.279761e-02  7.060363e-03     0.049960   \n",
       "radius_se                569.0  4.051721e-01  2.773127e-01     0.111500   \n",
       "texture_se               569.0  1.216853e+00  5.516484e-01     0.360200   \n",
       "perimeter_se             569.0  2.866059e+00  2.021855e+00     0.757000   \n",
       "area_se                  569.0  4.033708e+01  4.549101e+01     6.802000   \n",
       "smoothness_se            569.0  7.040979e-03  3.002518e-03     0.001713   \n",
       "compactness_se           569.0  2.547814e-02  1.790818e-02     0.002252   \n",
       "concavity_se             569.0  3.189372e-02  3.018606e-02     0.000000   \n",
       "concave points_se        569.0  1.179614e-02  6.170285e-03     0.000000   \n",
       "symmetry_se              569.0  2.054230e-02  8.266372e-03     0.007882   \n",
       "fractal_dimension_se     569.0  3.794904e-03  2.646071e-03     0.000895   \n",
       "radius_worst             569.0  1.626919e+01  4.833242e+00     7.930000   \n",
       "texture_worst            569.0  2.567722e+01  6.146258e+00    12.020000   \n",
       "perimeter_worst          569.0  1.072612e+02  3.360254e+01    50.410000   \n",
       "area_worst               569.0  8.805831e+02  5.693570e+02   185.200000   \n",
       "smoothness_worst         569.0  1.323686e-01  2.283243e-02     0.071170   \n",
       "compactness_worst        569.0  2.542650e-01  1.573365e-01     0.027290   \n",
       "concavity_worst          569.0  2.721885e-01  2.086243e-01     0.000000   \n",
       "concave points_worst     569.0  1.146062e-01  6.573234e-02     0.000000   \n",
       "symmetry_worst           569.0  2.900756e-01  6.186747e-02     0.156500   \n",
       "fractal_dimension_worst  569.0  8.394582e-02  1.806127e-02     0.055040   \n",
       "\n",
       "                                   25%            50%           75%  \\\n",
       "id                       869218.000000  906024.000000  8.813129e+06   \n",
       "radius_mean                  11.700000      13.370000  1.578000e+01   \n",
       "texture_mean                 16.170000      18.840000  2.180000e+01   \n",
       "perimeter_mean               75.170000      86.240000  1.041000e+02   \n",
       "area_mean                   420.300000     551.100000  7.827000e+02   \n",
       "smoothness_mean               0.086370       0.095870  1.053000e-01   \n",
       "compactness_mean              0.064920       0.092630  1.304000e-01   \n",
       "concavity_mean                0.029560       0.061540  1.307000e-01   \n",
       "concave points_mean           0.020310       0.033500  7.400000e-02   \n",
       "symmetry_mean                 0.161900       0.179200  1.957000e-01   \n",
       "fractal_dimension_mean        0.057700       0.061540  6.612000e-02   \n",
       "radius_se                     0.232400       0.324200  4.789000e-01   \n",
       "texture_se                    0.833900       1.108000  1.474000e+00   \n",
       "perimeter_se                  1.606000       2.287000  3.357000e+00   \n",
       "area_se                      17.850000      24.530000  4.519000e+01   \n",
       "smoothness_se                 0.005169       0.006380  8.146000e-03   \n",
       "compactness_se                0.013080       0.020450  3.245000e-02   \n",
       "concavity_se                  0.015090       0.025890  4.205000e-02   \n",
       "concave points_se             0.007638       0.010930  1.471000e-02   \n",
       "symmetry_se                   0.015160       0.018730  2.348000e-02   \n",
       "fractal_dimension_se          0.002248       0.003187  4.558000e-03   \n",
       "radius_worst                 13.010000      14.970000  1.879000e+01   \n",
       "texture_worst                21.080000      25.410000  2.972000e+01   \n",
       "perimeter_worst              84.110000      97.660000  1.254000e+02   \n",
       "area_worst                  515.300000     686.500000  1.084000e+03   \n",
       "smoothness_worst              0.116600       0.131300  1.460000e-01   \n",
       "compactness_worst             0.147200       0.211900  3.391000e-01   \n",
       "concavity_worst               0.114500       0.226700  3.829000e-01   \n",
       "concave points_worst          0.064930       0.099930  1.614000e-01   \n",
       "symmetry_worst                0.250400       0.282200  3.179000e-01   \n",
       "fractal_dimension_worst       0.071460       0.080040  9.208000e-02   \n",
       "\n",
       "                                  max  \n",
       "id                       9.113205e+08  \n",
       "radius_mean              2.811000e+01  \n",
       "texture_mean             3.928000e+01  \n",
       "perimeter_mean           1.885000e+02  \n",
       "area_mean                2.501000e+03  \n",
       "smoothness_mean          1.634000e-01  \n",
       "compactness_mean         3.454000e-01  \n",
       "concavity_mean           4.268000e-01  \n",
       "concave points_mean      2.012000e-01  \n",
       "symmetry_mean            3.040000e-01  \n",
       "fractal_dimension_mean   9.744000e-02  \n",
       "radius_se                2.873000e+00  \n",
       "texture_se               4.885000e+00  \n",
       "perimeter_se             2.198000e+01  \n",
       "area_se                  5.422000e+02  \n",
       "smoothness_se            3.113000e-02  \n",
       "compactness_se           1.354000e-01  \n",
       "concavity_se             3.960000e-01  \n",
       "concave points_se        5.279000e-02  \n",
       "symmetry_se              7.895000e-02  \n",
       "fractal_dimension_se     2.984000e-02  \n",
       "radius_worst             3.604000e+01  \n",
       "texture_worst            4.954000e+01  \n",
       "perimeter_worst          2.512000e+02  \n",
       "area_worst               4.254000e+03  \n",
       "smoothness_worst         2.226000e-01  \n",
       "compactness_worst        1.058000e+00  \n",
       "concavity_worst          1.252000e+00  \n",
       "concave points_worst     2.910000e-01  \n",
       "symmetry_worst           6.638000e-01  \n",
       "fractal_dimension_worst  2.075000e-01  "
      ]
     },
     "execution_count": 8,
     "metadata": {},
     "output_type": "execute_result"
    }
   ],
   "source": [
    "df.describe().T"
   ]
  },
  {
   "cell_type": "markdown",
   "id": "b338e565",
   "metadata": {
    "papermill": {
     "duration": 0.013226,
     "end_time": "2022-10-15T10:31:33.280611",
     "exception": false,
     "start_time": "2022-10-15T10:31:33.267385",
     "status": "completed"
    },
    "tags": []
   },
   "source": [
    "<div style=\"color:blue;font-size:20px;font-weight:bolder\">Discovering Missing Values</div> "
   ]
  },
  {
   "cell_type": "code",
   "execution_count": 9,
   "id": "c2076f8d",
   "metadata": {
    "execution": {
     "iopub.execute_input": "2022-10-15T10:31:33.310108Z",
     "iopub.status.busy": "2022-10-15T10:31:33.309660Z",
     "iopub.status.idle": "2022-10-15T10:31:33.321235Z",
     "shell.execute_reply": "2022-10-15T10:31:33.319923Z"
    },
    "papermill": {
     "duration": 0.029664,
     "end_time": "2022-10-15T10:31:33.323798",
     "exception": false,
     "start_time": "2022-10-15T10:31:33.294134",
     "status": "completed"
    },
    "tags": []
   },
   "outputs": [
    {
     "data": {
      "text/plain": [
       "id                         0\n",
       "diagnosis                  0\n",
       "radius_mean                0\n",
       "texture_mean               0\n",
       "perimeter_mean             0\n",
       "area_mean                  0\n",
       "smoothness_mean            0\n",
       "compactness_mean           0\n",
       "concavity_mean             0\n",
       "concave points_mean        0\n",
       "symmetry_mean              0\n",
       "fractal_dimension_mean     0\n",
       "radius_se                  0\n",
       "texture_se                 0\n",
       "perimeter_se               0\n",
       "area_se                    0\n",
       "smoothness_se              0\n",
       "compactness_se             0\n",
       "concavity_se               0\n",
       "concave points_se          0\n",
       "symmetry_se                0\n",
       "fractal_dimension_se       0\n",
       "radius_worst               0\n",
       "texture_worst              0\n",
       "perimeter_worst            0\n",
       "area_worst                 0\n",
       "smoothness_worst           0\n",
       "compactness_worst          0\n",
       "concavity_worst            0\n",
       "concave points_worst       0\n",
       "symmetry_worst             0\n",
       "fractal_dimension_worst    0\n",
       "dtype: int64"
      ]
     },
     "execution_count": 9,
     "metadata": {},
     "output_type": "execute_result"
    }
   ],
   "source": [
    "df.isnull().sum()"
   ]
  },
  {
   "cell_type": "markdown",
   "id": "b866d61e",
   "metadata": {
    "papermill": {
     "duration": 0.012845,
     "end_time": "2022-10-15T10:31:33.349964",
     "exception": false,
     "start_time": "2022-10-15T10:31:33.337119",
     "status": "completed"
    },
    "tags": []
   },
   "source": [
    "> ##### their is no missing values in the dataset"
   ]
  },
  {
   "cell_type": "markdown",
   "id": "68b4c241",
   "metadata": {
    "papermill": {
     "duration": 0.012769,
     "end_time": "2022-10-15T10:31:33.375904",
     "exception": false,
     "start_time": "2022-10-15T10:31:33.363135",
     "status": "completed"
    },
    "tags": []
   },
   "source": [
    "<div style=\"color:blue;font-size:20px;font-weight:bolder\">Discovering duplicate rows </div> "
   ]
  },
  {
   "cell_type": "code",
   "execution_count": 10,
   "id": "75536117",
   "metadata": {
    "execution": {
     "iopub.execute_input": "2022-10-15T10:31:33.404719Z",
     "iopub.status.busy": "2022-10-15T10:31:33.404254Z",
     "iopub.status.idle": "2022-10-15T10:31:33.418069Z",
     "shell.execute_reply": "2022-10-15T10:31:33.416931Z"
    },
    "papermill": {
     "duration": 0.031604,
     "end_time": "2022-10-15T10:31:33.420686",
     "exception": false,
     "start_time": "2022-10-15T10:31:33.389082",
     "status": "completed"
    },
    "tags": []
   },
   "outputs": [
    {
     "data": {
      "text/plain": [
       "0"
      ]
     },
     "execution_count": 10,
     "metadata": {},
     "output_type": "execute_result"
    }
   ],
   "source": [
    "df.duplicated().sum()"
   ]
  },
  {
   "cell_type": "markdown",
   "id": "29f229f7",
   "metadata": {
    "papermill": {
     "duration": 0.013183,
     "end_time": "2022-10-15T10:31:33.447510",
     "exception": false,
     "start_time": "2022-10-15T10:31:33.434327",
     "status": "completed"
    },
    "tags": []
   },
   "source": [
    "> ##### Thir is No duplicates in rows"
   ]
  },
  {
   "cell_type": "markdown",
   "id": "a5ac51b1",
   "metadata": {
    "papermill": {
     "duration": 0.013165,
     "end_time": "2022-10-15T10:31:33.474035",
     "exception": false,
     "start_time": "2022-10-15T10:31:33.460870",
     "status": "completed"
    },
    "tags": []
   },
   "source": [
    "<div style=\"color:blue;font-size:20px;font-weight:bolder\">Encoding For object features</div> "
   ]
  },
  {
   "cell_type": "code",
   "execution_count": 11,
   "id": "801c3f6b",
   "metadata": {
    "execution": {
     "iopub.execute_input": "2022-10-15T10:31:33.503581Z",
     "iopub.status.busy": "2022-10-15T10:31:33.503066Z",
     "iopub.status.idle": "2022-10-15T10:31:33.511076Z",
     "shell.execute_reply": "2022-10-15T10:31:33.509822Z"
    },
    "papermill": {
     "duration": 0.026058,
     "end_time": "2022-10-15T10:31:33.513775",
     "exception": false,
     "start_time": "2022-10-15T10:31:33.487717",
     "status": "completed"
    },
    "tags": []
   },
   "outputs": [],
   "source": [
    "df['diagnosis'] = df['diagnosis'].map({'M':1,'B':0})"
   ]
  },
  {
   "cell_type": "code",
   "execution_count": 12,
   "id": "0159579b",
   "metadata": {
    "execution": {
     "iopub.execute_input": "2022-10-15T10:31:33.542620Z",
     "iopub.status.busy": "2022-10-15T10:31:33.542160Z",
     "iopub.status.idle": "2022-10-15T10:31:33.549156Z",
     "shell.execute_reply": "2022-10-15T10:31:33.547998Z"
    },
    "papermill": {
     "duration": 0.02416,
     "end_time": "2022-10-15T10:31:33.551306",
     "exception": false,
     "start_time": "2022-10-15T10:31:33.527146",
     "status": "completed"
    },
    "tags": []
   },
   "outputs": [],
   "source": [
    "df = df.drop(\"id\",axis=1)"
   ]
  },
  {
   "cell_type": "markdown",
   "id": "5739910e",
   "metadata": {
    "papermill": {
     "duration": 0.013026,
     "end_time": "2022-10-15T10:31:33.577737",
     "exception": false,
     "start_time": "2022-10-15T10:31:33.564711",
     "status": "completed"
    },
    "tags": []
   },
   "source": [
    "<div style=\"color:white;font-size:25px;font-weight:bolder;background-color:black;text-align:center;padding:15px 0px;border-radius:20px\"> Modeling part </div> "
   ]
  },
  {
   "attachments": {
    "671f940f-0750-4302-994b-bc69de7fdc57.png": {
     "image/png": "[encoded data removed]"
    }
   },
   "cell_type": "markdown",
   "id": "eda0d566",
   "metadata": {
    "papermill": {
     "duration": 0.012941,
     "end_time": "2022-10-15T10:31:33.604721",
     "exception": false,
     "start_time": "2022-10-15T10:31:33.591780",
     "status": "completed"
    },
    "tags": []
   },
   "source": [
    "![image.png](attachment:671f940f-0750-4302-994b-bc69de7fdc57.png)"
   ]
  },
  {
   "cell_type": "markdown",
   "id": "41a3cbe1",
   "metadata": {
    "papermill": {
     "duration": 0.012945,
     "end_time": "2022-10-15T10:31:33.630868",
     "exception": false,
     "start_time": "2022-10-15T10:31:33.617923",
     "status": "completed"
    },
    "tags": []
   },
   "source": [
    "# What are artificial neural networks?\n",
    "An artificial neuron network (ANN) is a computational model based on the structure and functions of biological neural networks. Information that flows through the network affects the structure of the ANN because a neural network changes - or learns, in a sense - based on that input and output. ANNs are considered nonlinear statistical data modeling tools where the complex relationships between inputs and outputs are modeled or patterns are found. ANN is also known as a neural network."
   ]
  },
  {
   "cell_type": "markdown",
   "id": "fffaac98",
   "metadata": {
    "papermill": {
     "duration": 0.012883,
     "end_time": "2022-10-15T10:31:33.657004",
     "exception": false,
     "start_time": "2022-10-15T10:31:33.644121",
     "status": "completed"
    },
    "tags": []
   },
   "source": [
    "<div style=\"color:blue;font-size:20px;font-weight:bolder\">import keras</div> "
   ]
  },
  {
   "cell_type": "code",
   "execution_count": 13,
   "id": "08e0818a",
   "metadata": {
    "execution": {
     "iopub.execute_input": "2022-10-15T10:31:33.685360Z",
     "iopub.status.busy": "2022-10-15T10:31:33.684859Z",
     "iopub.status.idle": "2022-10-15T10:31:40.128866Z",
     "shell.execute_reply": "2022-10-15T10:31:40.127510Z"
    },
    "papermill": {
     "duration": 6.462032,
     "end_time": "2022-10-15T10:31:40.132213",
     "exception": false,
     "start_time": "2022-10-15T10:31:33.670181",
     "status": "completed"
    },
    "tags": []
   },
   "outputs": [],
   "source": [
    "from keras.models import Sequential\n",
    "from keras.layers.core import Dense, Activation"
   ]
  },
  {
   "cell_type": "markdown",
   "id": "86fd7ab8",
   "metadata": {
    "papermill": {
     "duration": 0.013862,
     "end_time": "2022-10-15T10:31:40.160475",
     "exception": false,
     "start_time": "2022-10-15T10:31:40.146613",
     "status": "completed"
    },
    "tags": []
   },
   "source": [
    "<div style=\"color:blue;font-size:20px;font-weight:bolder\">Splitting the dataset into the Training set and Test set</div> "
   ]
  },
  {
   "cell_type": "code",
   "execution_count": 14,
   "id": "6d88bd17",
   "metadata": {
    "execution": {
     "iopub.execute_input": "2022-10-15T10:31:40.190887Z",
     "iopub.status.busy": "2022-10-15T10:31:40.189780Z",
     "iopub.status.idle": "2022-10-15T10:31:40.197344Z",
     "shell.execute_reply": "2022-10-15T10:31:40.196044Z"
    },
    "papermill": {
     "duration": 0.025691,
     "end_time": "2022-10-15T10:31:40.200046",
     "exception": false,
     "start_time": "2022-10-15T10:31:40.174355",
     "status": "completed"
    },
    "tags": []
   },
   "outputs": [],
   "source": [
    "X = df.drop(\"diagnosis\",axis=1)\n",
    "y = df[\"diagnosis\"]"
   ]
  },
  {
   "cell_type": "code",
   "execution_count": 15,
   "id": "492c19ea",
   "metadata": {
    "execution": {
     "iopub.execute_input": "2022-10-15T10:31:40.229944Z",
     "iopub.status.busy": "2022-10-15T10:31:40.229492Z",
     "iopub.status.idle": "2022-10-15T10:31:40.298964Z",
     "shell.execute_reply": "2022-10-15T10:31:40.297346Z"
    },
    "papermill": {
     "duration": 0.087725,
     "end_time": "2022-10-15T10:31:40.301774",
     "exception": false,
     "start_time": "2022-10-15T10:31:40.214049",
     "status": "completed"
    },
    "tags": []
   },
   "outputs": [],
   "source": [
    "from sklearn.model_selection import train_test_split\n",
    "X_train, X_test, y_train, y_test = train_test_split(X, y, test_size = 0.3, random_state = 0)"
   ]
  },
  {
   "cell_type": "markdown",
   "id": "fea3100c",
   "metadata": {
    "papermill": {
     "duration": 0.01353,
     "end_time": "2022-10-15T10:31:40.329187",
     "exception": false,
     "start_time": "2022-10-15T10:31:40.315657",
     "status": "completed"
    },
    "tags": []
   },
   "source": [
    "<div style=\"color:blue;font-size:20px;font-weight:bolder\">Feature Scaling</div> "
   ]
  },
  {
   "cell_type": "code",
   "execution_count": 16,
   "id": "be773aea",
   "metadata": {
    "execution": {
     "iopub.execute_input": "2022-10-15T10:31:40.359294Z",
     "iopub.status.busy": "2022-10-15T10:31:40.358856Z",
     "iopub.status.idle": "2022-10-15T10:31:40.370676Z",
     "shell.execute_reply": "2022-10-15T10:31:40.369614Z"
    },
    "papermill": {
     "duration": 0.030305,
     "end_time": "2022-10-15T10:31:40.373387",
     "exception": false,
     "start_time": "2022-10-15T10:31:40.343082",
     "status": "completed"
    },
    "tags": []
   },
   "outputs": [],
   "source": [
    "from sklearn.preprocessing import StandardScaler\n",
    "sc = StandardScaler()\n",
    "X_train = sc.fit_transform(X_train)\n",
    "X_test = sc.transform(X_test)"
   ]
  },
  {
   "cell_type": "markdown",
   "id": "fd8985d6",
   "metadata": {
    "papermill": {
     "duration": 0.013125,
     "end_time": "2022-10-15T10:31:40.400037",
     "exception": false,
     "start_time": "2022-10-15T10:31:40.386912",
     "status": "completed"
    },
    "tags": []
   },
   "source": [
    "<div style=\"color:blue;font-size:20px;font-weight:bolder\">Defining the model </div> "
   ]
  },
  {
   "cell_type": "code",
   "execution_count": 17,
   "id": "ee3e55ba",
   "metadata": {
    "execution": {
     "iopub.execute_input": "2022-10-15T10:31:40.429167Z",
     "iopub.status.busy": "2022-10-15T10:31:40.428660Z",
     "iopub.status.idle": "2022-10-15T10:31:40.548026Z",
     "shell.execute_reply": "2022-10-15T10:31:40.546834Z"
    },
    "papermill": {
     "duration": 0.137051,
     "end_time": "2022-10-15T10:31:40.550582",
     "exception": false,
     "start_time": "2022-10-15T10:31:40.413531",
     "status": "completed"
    },
    "tags": []
   },
   "outputs": [
    {
     "name": "stderr",
     "output_type": "stream",
     "text": [
      "2022-10-15 10:31:40.468783: I tensorflow/core/common_runtime/process_util.cc:146] Creating new thread pool with default inter op setting: 2. Tune using inter_op_parallelism_threads for best performance.\n"
     ]
    }
   ],
   "source": [
    "model = Sequential()\n",
    "model.add(Dense(6, activation='relu', input_shape=(30,)))\n",
    "model.add(Dense(2, activation='sigmoid'))"
   ]
  },
  {
   "cell_type": "code",
   "execution_count": 18,
   "id": "5d04faf8",
   "metadata": {
    "execution": {
     "iopub.execute_input": "2022-10-15T10:31:40.580062Z",
     "iopub.status.busy": "2022-10-15T10:31:40.579416Z",
     "iopub.status.idle": "2022-10-15T10:31:40.587626Z",
     "shell.execute_reply": "2022-10-15T10:31:40.586178Z"
    },
    "papermill": {
     "duration": 0.026209,
     "end_time": "2022-10-15T10:31:40.590254",
     "exception": false,
     "start_time": "2022-10-15T10:31:40.564045",
     "status": "completed"
    },
    "tags": []
   },
   "outputs": [
    {
     "name": "stdout",
     "output_type": "stream",
     "text": [
      "Model: \"sequential\"\n",
      "_________________________________________________________________\n",
      "Layer (type)                 Output Shape              Param #   \n",
      "=================================================================\n",
      "dense (Dense)                (None, 6)                 186       \n",
      "_________________________________________________________________\n",
      "dense_1 (Dense)              (None, 2)                 14        \n",
      "=================================================================\n",
      "Total params: 200\n",
      "Trainable params: 200\n",
      "Non-trainable params: 0\n",
      "_________________________________________________________________\n"
     ]
    }
   ],
   "source": [
    "model.summary()"
   ]
  },
  {
   "cell_type": "code",
   "execution_count": 19,
   "id": "a4877a99",
   "metadata": {
    "execution": {
     "iopub.execute_input": "2022-10-15T10:31:40.619938Z",
     "iopub.status.busy": "2022-10-15T10:31:40.619542Z",
     "iopub.status.idle": "2022-10-15T10:31:40.633837Z",
     "shell.execute_reply": "2022-10-15T10:31:40.632704Z"
    },
    "papermill": {
     "duration": 0.032462,
     "end_time": "2022-10-15T10:31:40.636688",
     "exception": false,
     "start_time": "2022-10-15T10:31:40.604226",
     "status": "completed"
    },
    "tags": []
   },
   "outputs": [],
   "source": [
    "model.compile(loss=\"sparse_categorical_crossentropy\",\n",
    "              optimizer=\"sgd\",\n",
    "              metrics = ['accuracy'])"
   ]
  },
  {
   "cell_type": "code",
   "execution_count": 20,
   "id": "19a246d0",
   "metadata": {
    "execution": {
     "iopub.execute_input": "2022-10-15T10:31:40.666587Z",
     "iopub.status.busy": "2022-10-15T10:31:40.665770Z",
     "iopub.status.idle": "2022-10-15T10:31:43.066442Z",
     "shell.execute_reply": "2022-10-15T10:31:43.065511Z"
    },
    "papermill": {
     "duration": 2.418215,
     "end_time": "2022-10-15T10:31:43.068696",
     "exception": false,
     "start_time": "2022-10-15T10:31:40.650481",
     "status": "completed"
    },
    "tags": []
   },
   "outputs": [
    {
     "name": "stderr",
     "output_type": "stream",
     "text": [
      "2022-10-15 10:31:40.756627: I tensorflow/compiler/mlir/mlir_graph_optimization_pass.cc:185] None of the MLIR Optimization Passes are enabled (registered 2)\n"
     ]
    },
    {
     "name": "stdout",
     "output_type": "stream",
     "text": [
      "Epoch 1/100\n",
      "8/8 [==============================] - 1s 2ms/step - loss: 0.7012 - accuracy: 0.5930\n",
      "Epoch 2/100\n",
      "8/8 [==============================] - 0s 2ms/step - loss: 0.6037 - accuracy: 0.6658\n",
      "Epoch 3/100\n",
      "8/8 [==============================] - 0s 2ms/step - loss: 0.5434 - accuracy: 0.7111\n",
      "Epoch 4/100\n",
      "8/8 [==============================] - 0s 2ms/step - loss: 0.4998 - accuracy: 0.7764\n",
      "Epoch 5/100\n",
      "8/8 [==============================] - 0s 2ms/step - loss: 0.4661 - accuracy: 0.8141\n",
      "Epoch 6/100\n",
      "8/8 [==============================] - 0s 2ms/step - loss: 0.4392 - accuracy: 0.8367\n",
      "Epoch 7/100\n",
      "8/8 [==============================] - 0s 2ms/step - loss: 0.4161 - accuracy: 0.8492\n",
      "Epoch 8/100\n",
      "8/8 [==============================] - 0s 2ms/step - loss: 0.3960 - accuracy: 0.8693\n",
      "Epoch 9/100\n",
      "8/8 [==============================] - 0s 1ms/step - loss: 0.3784 - accuracy: 0.8744\n",
      "Epoch 10/100\n",
      "8/8 [==============================] - 0s 1ms/step - loss: 0.3628 - accuracy: 0.8794\n",
      "Epoch 11/100\n",
      "8/8 [==============================] - 0s 2ms/step - loss: 0.3484 - accuracy: 0.8844\n",
      "Epoch 12/100\n",
      "8/8 [==============================] - 0s 2ms/step - loss: 0.3351 - accuracy: 0.8894\n",
      "Epoch 13/100\n",
      "8/8 [==============================] - 0s 2ms/step - loss: 0.3225 - accuracy: 0.8945\n",
      "Epoch 14/100\n",
      "8/8 [==============================] - 0s 2ms/step - loss: 0.3108 - accuracy: 0.8970\n",
      "Epoch 15/100\n",
      "8/8 [==============================] - 0s 2ms/step - loss: 0.2997 - accuracy: 0.9045\n",
      "Epoch 16/100\n",
      "8/8 [==============================] - 0s 2ms/step - loss: 0.2893 - accuracy: 0.9196\n",
      "Epoch 17/100\n",
      "8/8 [==============================] - 0s 2ms/step - loss: 0.2794 - accuracy: 0.9296\n",
      "Epoch 18/100\n",
      "8/8 [==============================] - 0s 2ms/step - loss: 0.2703 - accuracy: 0.9322\n",
      "Epoch 19/100\n",
      "8/8 [==============================] - 0s 1ms/step - loss: 0.2617 - accuracy: 0.9322\n",
      "Epoch 20/100\n",
      "8/8 [==============================] - 0s 1ms/step - loss: 0.2537 - accuracy: 0.9347\n",
      "Epoch 21/100\n",
      "8/8 [==============================] - 0s 2ms/step - loss: 0.2462 - accuracy: 0.9372\n",
      "Epoch 22/100\n",
      "8/8 [==============================] - 0s 2ms/step - loss: 0.2390 - accuracy: 0.9372\n",
      "Epoch 23/100\n",
      "8/8 [==============================] - 0s 2ms/step - loss: 0.2322 - accuracy: 0.9422\n",
      "Epoch 24/100\n",
      "8/8 [==============================] - 0s 2ms/step - loss: 0.2260 - accuracy: 0.9422\n",
      "Epoch 25/100\n",
      "8/8 [==============================] - 0s 2ms/step - loss: 0.2199 - accuracy: 0.9447\n",
      "Epoch 26/100\n",
      "8/8 [==============================] - 0s 2ms/step - loss: 0.2142 - accuracy: 0.9447\n",
      "Epoch 27/100\n",
      "8/8 [==============================] - 0s 2ms/step - loss: 0.2088 - accuracy: 0.9447\n",
      "Epoch 28/100\n",
      "8/8 [==============================] - 0s 2ms/step - loss: 0.2039 - accuracy: 0.9447\n",
      "Epoch 29/100\n",
      "8/8 [==============================] - 0s 1ms/step - loss: 0.1992 - accuracy: 0.9472\n",
      "Epoch 30/100\n",
      "8/8 [==============================] - 0s 2ms/step - loss: 0.1947 - accuracy: 0.9497\n",
      "Epoch 31/100\n",
      "8/8 [==============================] - 0s 2ms/step - loss: 0.1905 - accuracy: 0.9523\n",
      "Epoch 32/100\n",
      "8/8 [==============================] - 0s 2ms/step - loss: 0.1866 - accuracy: 0.9548\n",
      "Epoch 33/100\n",
      "8/8 [==============================] - 0s 2ms/step - loss: 0.1829 - accuracy: 0.9573\n",
      "Epoch 34/100\n",
      "8/8 [==============================] - 0s 3ms/step - loss: 0.1794 - accuracy: 0.9573\n",
      "Epoch 35/100\n",
      "8/8 [==============================] - 0s 3ms/step - loss: 0.1760 - accuracy: 0.9573\n",
      "Epoch 36/100\n",
      "8/8 [==============================] - 0s 3ms/step - loss: 0.1730 - accuracy: 0.9598\n",
      "Epoch 37/100\n",
      "8/8 [==============================] - 0s 4ms/step - loss: 0.1699 - accuracy: 0.9598\n",
      "Epoch 38/100\n",
      "8/8 [==============================] - 0s 2ms/step - loss: 0.1671 - accuracy: 0.9598\n",
      "Epoch 39/100\n",
      "8/8 [==============================] - 0s 2ms/step - loss: 0.1643 - accuracy: 0.9623\n",
      "Epoch 40/100\n",
      "8/8 [==============================] - 0s 2ms/step - loss: 0.1617 - accuracy: 0.9623\n",
      "Epoch 41/100\n",
      "8/8 [==============================] - 0s 2ms/step - loss: 0.1592 - accuracy: 0.9623\n",
      "Epoch 42/100\n",
      "8/8 [==============================] - 0s 2ms/step - loss: 0.1568 - accuracy: 0.9623\n",
      "Epoch 43/100\n",
      "8/8 [==============================] - 0s 2ms/step - loss: 0.1545 - accuracy: 0.9623\n",
      "Epoch 44/100\n",
      "8/8 [==============================] - 0s 2ms/step - loss: 0.1524 - accuracy: 0.9623\n",
      "Epoch 45/100\n",
      "8/8 [==============================] - 0s 2ms/step - loss: 0.1503 - accuracy: 0.9648\n",
      "Epoch 46/100\n",
      "8/8 [==============================] - 0s 2ms/step - loss: 0.1483 - accuracy: 0.9648\n",
      "Epoch 47/100\n",
      "8/8 [==============================] - 0s 2ms/step - loss: 0.1464 - accuracy: 0.9648\n",
      "Epoch 48/100\n",
      "8/8 [==============================] - 0s 2ms/step - loss: 0.1445 - accuracy: 0.9673\n",
      "Epoch 49/100\n",
      "8/8 [==============================] - 0s 2ms/step - loss: 0.1427 - accuracy: 0.9673\n",
      "Epoch 50/100\n",
      "8/8 [==============================] - 0s 2ms/step - loss: 0.1410 - accuracy: 0.9673\n",
      "Epoch 51/100\n",
      "8/8 [==============================] - 0s 2ms/step - loss: 0.1394 - accuracy: 0.9673\n",
      "Epoch 52/100\n",
      "8/8 [==============================] - 0s 2ms/step - loss: 0.1378 - accuracy: 0.9673\n",
      "Epoch 53/100\n",
      "8/8 [==============================] - 0s 2ms/step - loss: 0.1363 - accuracy: 0.9673\n",
      "Epoch 54/100\n",
      "8/8 [==============================] - 0s 2ms/step - loss: 0.1348 - accuracy: 0.9698\n",
      "Epoch 55/100\n",
      "8/8 [==============================] - 0s 2ms/step - loss: 0.1335 - accuracy: 0.9698\n",
      "Epoch 56/100\n",
      "8/8 [==============================] - 0s 2ms/step - loss: 0.1320 - accuracy: 0.9724\n",
      "Epoch 57/100\n",
      "8/8 [==============================] - 0s 2ms/step - loss: 0.1308 - accuracy: 0.9724\n",
      "Epoch 58/100\n",
      "8/8 [==============================] - 0s 2ms/step - loss: 0.1294 - accuracy: 0.9724\n",
      "Epoch 59/100\n",
      "8/8 [==============================] - 0s 2ms/step - loss: 0.1282 - accuracy: 0.9724\n",
      "Epoch 60/100\n",
      "8/8 [==============================] - 0s 1ms/step - loss: 0.1270 - accuracy: 0.9724\n",
      "Epoch 61/100\n",
      "8/8 [==============================] - 0s 2ms/step - loss: 0.1258 - accuracy: 0.9724\n",
      "Epoch 62/100\n",
      "8/8 [==============================] - 0s 2ms/step - loss: 0.1247 - accuracy: 0.9724\n",
      "Epoch 63/100\n",
      "8/8 [==============================] - 0s 2ms/step - loss: 0.1236 - accuracy: 0.9724\n",
      "Epoch 64/100\n",
      "8/8 [==============================] - 0s 2ms/step - loss: 0.1226 - accuracy: 0.9724\n",
      "Epoch 65/100\n",
      "8/8 [==============================] - 0s 2ms/step - loss: 0.1215 - accuracy: 0.9724\n",
      "Epoch 66/100\n",
      "8/8 [==============================] - 0s 2ms/step - loss: 0.1205 - accuracy: 0.9724\n",
      "Epoch 67/100\n",
      "8/8 [==============================] - 0s 2ms/step - loss: 0.1195 - accuracy: 0.9724\n",
      "Epoch 68/100\n",
      "8/8 [==============================] - 0s 2ms/step - loss: 0.1186 - accuracy: 0.9724\n",
      "Epoch 69/100\n",
      "8/8 [==============================] - 0s 2ms/step - loss: 0.1176 - accuracy: 0.9724\n",
      "Epoch 70/100\n",
      "8/8 [==============================] - 0s 2ms/step - loss: 0.1167 - accuracy: 0.9724\n",
      "Epoch 71/100\n",
      "8/8 [==============================] - 0s 2ms/step - loss: 0.1159 - accuracy: 0.9724\n",
      "Epoch 72/100\n",
      "8/8 [==============================] - 0s 1ms/step - loss: 0.1150 - accuracy: 0.9724\n",
      "Epoch 73/100\n",
      "8/8 [==============================] - 0s 1ms/step - loss: 0.1142 - accuracy: 0.9724\n",
      "Epoch 74/100\n",
      "8/8 [==============================] - 0s 2ms/step - loss: 0.1134 - accuracy: 0.9724\n",
      "Epoch 75/100\n",
      "8/8 [==============================] - 0s 2ms/step - loss: 0.1126 - accuracy: 0.9724\n",
      "Epoch 76/100\n",
      "8/8 [==============================] - 0s 1ms/step - loss: 0.1118 - accuracy: 0.9724\n",
      "Epoch 77/100\n",
      "8/8 [==============================] - 0s 2ms/step - loss: 0.1110 - accuracy: 0.9724\n",
      "Epoch 78/100\n",
      "8/8 [==============================] - 0s 2ms/step - loss: 0.1103 - accuracy: 0.9724\n",
      "Epoch 79/100\n",
      "8/8 [==============================] - 0s 2ms/step - loss: 0.1096 - accuracy: 0.9724\n",
      "Epoch 80/100\n",
      "8/8 [==============================] - 0s 1ms/step - loss: 0.1089 - accuracy: 0.9724\n",
      "Epoch 81/100\n",
      "8/8 [==============================] - 0s 1ms/step - loss: 0.1081 - accuracy: 0.9724\n",
      "Epoch 82/100\n",
      "8/8 [==============================] - 0s 2ms/step - loss: 0.1074 - accuracy: 0.9724\n",
      "Epoch 83/100\n",
      "8/8 [==============================] - 0s 2ms/step - loss: 0.1067 - accuracy: 0.9724\n",
      "Epoch 84/100\n",
      "8/8 [==============================] - 0s 2ms/step - loss: 0.1060 - accuracy: 0.9724\n",
      "Epoch 85/100\n",
      "8/8 [==============================] - 0s 2ms/step - loss: 0.1054 - accuracy: 0.9724\n",
      "Epoch 86/100\n",
      "8/8 [==============================] - 0s 2ms/step - loss: 0.1047 - accuracy: 0.9724\n",
      "Epoch 87/100\n",
      "8/8 [==============================] - 0s 2ms/step - loss: 0.1041 - accuracy: 0.9724\n",
      "Epoch 88/100\n",
      "8/8 [==============================] - 0s 2ms/step - loss: 0.1035 - accuracy: 0.9724\n",
      "Epoch 89/100\n",
      "8/8 [==============================] - 0s 2ms/step - loss: 0.1029 - accuracy: 0.9724\n",
      "Epoch 90/100\n",
      "8/8 [==============================] - 0s 2ms/step - loss: 0.1023 - accuracy: 0.9724\n",
      "Epoch 91/100\n",
      "8/8 [==============================] - 0s 2ms/step - loss: 0.1017 - accuracy: 0.9724\n",
      "Epoch 92/100\n",
      "8/8 [==============================] - 0s 2ms/step - loss: 0.1012 - accuracy: 0.9724\n",
      "Epoch 93/100\n",
      "8/8 [==============================] - 0s 2ms/step - loss: 0.1006 - accuracy: 0.9724\n",
      "Epoch 94/100\n",
      "8/8 [==============================] - 0s 2ms/step - loss: 0.1001 - accuracy: 0.9724\n",
      "Epoch 95/100\n",
      "8/8 [==============================] - 0s 2ms/step - loss: 0.0995 - accuracy: 0.9724\n",
      "Epoch 96/100\n",
      "8/8 [==============================] - 0s 2ms/step - loss: 0.0990 - accuracy: 0.9724\n",
      "Epoch 97/100\n",
      "8/8 [==============================] - 0s 2ms/step - loss: 0.0985 - accuracy: 0.9724\n",
      "Epoch 98/100\n",
      "8/8 [==============================] - 0s 2ms/step - loss: 0.0980 - accuracy: 0.9724\n",
      "Epoch 99/100\n",
      "8/8 [==============================] - 0s 2ms/step - loss: 0.0975 - accuracy: 0.9724\n",
      "Epoch 100/100\n",
      "8/8 [==============================] - 0s 2ms/step - loss: 0.0970 - accuracy: 0.9724\n"
     ]
    },
    {
     "data": {
      "text/plain": [
       "<keras.callbacks.History at 0x7f9557f98bd0>"
      ]
     },
     "execution_count": 20,
     "metadata": {},
     "output_type": "execute_result"
    }
   ],
   "source": [
    "model.fit(X_train, y_train, batch_size=50, epochs=100)"
   ]
  },
  {
   "cell_type": "code",
   "execution_count": 21,
   "id": "89e0bbd5",
   "metadata": {
    "execution": {
     "iopub.execute_input": "2022-10-15T10:31:43.128586Z",
     "iopub.status.busy": "2022-10-15T10:31:43.128086Z",
     "iopub.status.idle": "2022-10-15T10:31:43.366780Z",
     "shell.execute_reply": "2022-10-15T10:31:43.364949Z"
    },
    "papermill": {
     "duration": 0.271733,
     "end_time": "2022-10-15T10:31:43.369536",
     "exception": false,
     "start_time": "2022-10-15T10:31:43.097803",
     "status": "completed"
    },
    "tags": []
   },
   "outputs": [
    {
     "name": "stdout",
     "output_type": "stream",
     "text": [
      "6/6 [==============================] - 0s 2ms/step - loss: 0.1308 - accuracy: 0.9474\n"
     ]
    }
   ],
   "source": [
    "test_loss, test_acc = model.evaluate(X_test, y_test)"
   ]
  },
  {
   "cell_type": "code",
   "execution_count": 22,
   "id": "e2fac24b",
   "metadata": {
    "execution": {
     "iopub.execute_input": "2022-10-15T10:31:43.427970Z",
     "iopub.status.busy": "2022-10-15T10:31:43.426805Z",
     "iopub.status.idle": "2022-10-15T10:31:43.433132Z",
     "shell.execute_reply": "2022-10-15T10:31:43.431649Z"
    },
    "papermill": {
     "duration": 0.038897,
     "end_time": "2022-10-15T10:31:43.436326",
     "exception": false,
     "start_time": "2022-10-15T10:31:43.397429",
     "status": "completed"
    },
    "tags": []
   },
   "outputs": [
    {
     "name": "stdout",
     "output_type": "stream",
     "text": [
      "Test accuracy: 0.9474\n"
     ]
    }
   ],
   "source": [
    "print('Test accuracy:', round(test_acc,4))"
   ]
  },
  {
   "cell_type": "code",
   "execution_count": 23,
   "id": "909475d1",
   "metadata": {
    "execution": {
     "iopub.execute_input": "2022-10-15T10:31:43.495264Z",
     "iopub.status.busy": "2022-10-15T10:31:43.494736Z",
     "iopub.status.idle": "2022-10-15T10:31:43.644330Z",
     "shell.execute_reply": "2022-10-15T10:31:43.643002Z"
    },
    "papermill": {
     "duration": 0.181473,
     "end_time": "2022-10-15T10:31:43.647031",
     "exception": false,
     "start_time": "2022-10-15T10:31:43.465558",
     "status": "completed"
    },
    "tags": []
   },
   "outputs": [],
   "source": [
    "predictions = model.predict(X_test)"
   ]
  },
  {
   "cell_type": "code",
   "execution_count": 24,
   "id": "c8e1ed2a",
   "metadata": {
    "execution": {
     "iopub.execute_input": "2022-10-15T10:31:43.703912Z",
     "iopub.status.busy": "2022-10-15T10:31:43.703423Z",
     "iopub.status.idle": "2022-10-15T10:31:43.712076Z",
     "shell.execute_reply": "2022-10-15T10:31:43.711155Z"
    },
    "papermill": {
     "duration": 0.040635,
     "end_time": "2022-10-15T10:31:43.715138",
     "exception": false,
     "start_time": "2022-10-15T10:31:43.674503",
     "status": "completed"
    },
    "tags": []
   },
   "outputs": [
    {
     "name": "stdout",
     "output_type": "stream",
     "text": [
      "[0.28433573 0.93320394]\n",
      "1\n",
      "[0.5843292 0.1954354]\n",
      "0\n",
      "[0.9454703  0.03716305]\n",
      "0\n",
      "[0.71620685 0.17099759]\n",
      "0\n"
     ]
    }
   ],
   "source": [
    "print(predictions[0])\n",
    "print(np.argmax(predictions[0]))\n",
    "\n",
    "print(predictions[1])\n",
    "print(np.argmax(predictions[1]))\n",
    "\n",
    "print(predictions[2])\n",
    "print(np.argmax(predictions[2]))\n",
    "\n",
    "print(predictions[3])\n",
    "print(np.argmax(predictions[3]))"
   ]
  },
  {
   "cell_type": "markdown",
   "id": "2e880922",
   "metadata": {
    "papermill": {
     "duration": 0.027664,
     "end_time": "2022-10-15T10:31:43.770408",
     "exception": false,
     "start_time": "2022-10-15T10:31:43.742744",
     "status": "completed"
    },
    "tags": []
   },
   "source": [
    "<div style=\"color:white;font-size:35px;font-weight:bolder;background-color:black;text-align:center;padding:15px 0px;border-radius:20px\"> End </div> "
   ]
  }
 ],
 "metadata": {
  "kernelspec": {
   "display_name": "Python 3",
   "language": "python",
   "name": "python3"
  },
  "language_info": {
   "codemirror_mode": {
    "name": "ipython",
    "version": 3
   },
   "file_extension": ".py",
   "mimetype": "text/x-python",
   "name": "python",
   "nbconvert_exporter": "python",
   "pygments_lexer": "ipython3",
   "version": "3.7.12"
  },
  "papermill": {
   "default_parameters": {},
   "duration": 26.233143,
   "end_time": "2022-10-15T10:31:46.603883",
   "environment_variables": {},
   "exception": null,
   "input_path": "__notebook__.ipynb",
   "output_path": "__notebook__.ipynb",
   "parameters": {},
   "start_time": "2022-10-15T10:31:20.370740",
   "version": "2.3.4"
  }
 },
 "nbformat": 4,
 "nbformat_minor": 5
}
